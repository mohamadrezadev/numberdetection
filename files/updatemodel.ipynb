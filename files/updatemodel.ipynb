{
 "cells": [
  {
   "cell_type": "code",
   "execution_count": null,
   "metadata": {},
   "outputs": [],
   "source": []
  },
  {
   "cell_type": "code",
   "execution_count": 17,
   "metadata": {},
   "outputs": [
    {
     "ename": "ImportError",
     "evalue": "cannot import name 'layersDense' from 'keras' (C:\\Users\\moham\\AppData\\Local\\Packages\\PythonSoftwareFoundation.Python.3.10_qbz5n2kfra8p0\\LocalCache\\local-packages\\Python310\\site-packages\\keras\\__init__.py)",
     "output_type": "error",
     "traceback": [
      "\u001b[1;31m---------------------------------------------------------------------------\u001b[0m",
      "\u001b[1;31mImportError\u001b[0m                               Traceback (most recent call last)",
      "Cell \u001b[1;32mIn[17], line 13\u001b[0m\n\u001b[0;32m     10\u001b[0m \u001b[39mfrom\u001b[39;00m \u001b[39mkeras\u001b[39;00m\u001b[39m.\u001b[39;00m\u001b[39mutils\u001b[39;00m \u001b[39mimport\u001b[39;00m to_categorical\n\u001b[0;32m     12\u001b[0m \u001b[39mfrom\u001b[39;00m \u001b[39mkeras\u001b[39;00m\u001b[39m.\u001b[39;00m\u001b[39mmodels\u001b[39;00m \u001b[39mimport\u001b[39;00m Sequential\n\u001b[1;32m---> 13\u001b[0m \u001b[39mfrom\u001b[39;00m \u001b[39mkeras\u001b[39;00m \u001b[39mimport\u001b[39;00m layers ,layersDense\n\u001b[0;32m     15\u001b[0m \u001b[39mimport\u001b[39;00m \u001b[39mmatplotlib\u001b[39;00m\u001b[39m.\u001b[39;00m\u001b[39mpyplot\u001b[39;00m \u001b[39mas\u001b[39;00m \u001b[39mplt\u001b[39;00m \n\u001b[0;32m     16\u001b[0m \u001b[39mfrom\u001b[39;00m \u001b[39mkeras\u001b[39;00m \u001b[39mimport\u001b[39;00m layers\n",
      "\u001b[1;31mImportError\u001b[0m: cannot import name 'layersDense' from 'keras' (C:\\Users\\moham\\AppData\\Local\\Packages\\PythonSoftwareFoundation.Python.3.10_qbz5n2kfra8p0\\LocalCache\\local-packages\\Python310\\site-packages\\keras\\__init__.py)"
     ]
    }
   ],
   "source": [
    "from numpy.ma.core import shape\n",
    "import random\n",
    "\n",
    "import numpy as np\n",
    "import tensorflow as tf\n",
    "\n",
    "from keras.datasets import mnist\n",
    "from keras.datasets import fashion_mnist\n",
    "\n",
    "from keras.utils import to_categorical\n",
    "\n",
    "from keras.models import Sequential\n",
    "from keras import layers \n",
    "\n",
    "import matplotlib.pyplot as plt \n",
    "from keras import layers\n",
    "from keras import Sequential\n",
    "from keras.models import  model_from_json\n",
    "import cv2 \n",
    "\n",
    "from tensorflow import keras\n"
   ]
  },
  {
   "cell_type": "code",
   "execution_count": null,
   "metadata": {},
   "outputs": [],
   "source": []
  },
  {
   "cell_type": "code",
   "execution_count": null,
   "metadata": {},
   "outputs": [],
   "source": [
    "SEED_VALUE = 42\n",
    "random.seed(SEED_VALUE)\n",
    "np.random.seed(SEED_VALUE)\n",
    "tf.random.set_seed(SEED_VALUE)\n",
    "\n",
    "(x_trainall, y_trainall), (x_test, y_test) = mnist.load_data()\n",
    "\n",
    "x_valid = x_trainall[:10000]\n",
    "x_train = x_trainall[10000:]\n",
    "\n",
    "y_valid = y_trainall[:10000]\n",
    "y_train = y_trainall[10000:]\n",
    "\n",
    "x_train = x_train.reshape(x_train.shape[0], 28, 28, 1)\n",
    "x_train = x_train.astype('float32') / 255\n",
    "\n",
    "x_valid = x_valid.reshape(x_valid.shape[0], 28, 28, 1)\n",
    "x_valid = x_valid.astype('float32') / 255\n",
    "\n",
    "x_test = x_test.reshape(x_test.shape[0], 28, 28, 1)\n",
    "x_test = x_test.astype('float32') / 255\n",
    "\n",
    "y_train = to_categorical(y_train, num_classes=10)\n",
    "y_valid = to_categorical(y_valid, num_classes=10)\n",
    "y_test = to_categorical(y_test, num_classes=10)\n",
    "\n",
    "model = keras.models.Sequential([\n",
    "    keras.layers.Conv2D(32, (3, 3), activation='relu', input_shape=[28, 28, 1]),\n",
    "    keras.layers.MaxPooling2D(),\n",
    "    keras.layers.Conv2D(64, (2, 2), activation='relu'),\n",
    "    keras.layers.MaxPooling2D(),\n",
    "    keras.layers.Conv2D(64, (2, 2), activation='relu'),\n",
    "    keras.layers.Flatten(),\n",
    "    keras.layers.Dense(100, activation='relu'),\n",
    "    keras.layersDense(10, activation='softmax')\n",
    "])\n",
    "\n",
    "model.summary()\n",
    "\n",
    "model.compile(optimizer='adam', loss='categorical_crossentropy', metrics=['accuracy'])\n",
    "\n",
    "training_result = model.fit(x_train, y_train, batch_size=32, epochs=5, validation_data=(x_valid, y_valid))\n",
    "\n",
    "score = model.evaluate(x_test, y_test, verbose=0)\n",
    "print('Test loss:', score[0])\n",
    "print('Test accuracy:', score[1])"
   ]
  },
  {
   "cell_type": "code",
   "execution_count": 22,
   "metadata": {},
   "outputs": [
    {
     "name": "stdout",
     "output_type": "stream",
     "text": [
      "Epoch 1/30\n",
      "1875/1875 [==============================] - 34s 18ms/step - loss: 0.1578 - accuracy: 0.9531 - val_loss: 0.0623 - val_accuracy: 0.9788\n",
      "Epoch 2/30\n",
      "1875/1875 [==============================] - 34s 18ms/step - loss: 0.0530 - accuracy: 0.9836 - val_loss: 0.0440 - val_accuracy: 0.9848\n",
      "Epoch 3/30\n",
      "1875/1875 [==============================] - 37s 20ms/step - loss: 0.0392 - accuracy: 0.9877 - val_loss: 0.0319 - val_accuracy: 0.9883\n",
      "Epoch 4/30\n",
      "1875/1875 [==============================] - 35s 19ms/step - loss: 0.0297 - accuracy: 0.9908 - val_loss: 0.0323 - val_accuracy: 0.9894\n",
      "Epoch 5/30\n",
      "1875/1875 [==============================] - 36s 19ms/step - loss: 0.0232 - accuracy: 0.9927 - val_loss: 0.0321 - val_accuracy: 0.9896\n",
      "Epoch 6/30\n",
      "1875/1875 [==============================] - 34s 18ms/step - loss: 0.0193 - accuracy: 0.9937 - val_loss: 0.0289 - val_accuracy: 0.9907\n",
      "Epoch 7/30\n",
      "1875/1875 [==============================] - 35s 19ms/step - loss: 0.0160 - accuracy: 0.9947 - val_loss: 0.0347 - val_accuracy: 0.9897\n",
      "Epoch 8/30\n",
      "1875/1875 [==============================] - 37s 20ms/step - loss: 0.0120 - accuracy: 0.9961 - val_loss: 0.0509 - val_accuracy: 0.9855\n",
      "Epoch 9/30\n",
      "1875/1875 [==============================] - 35s 19ms/step - loss: 0.0103 - accuracy: 0.9965 - val_loss: 0.0395 - val_accuracy: 0.9891\n",
      "Epoch 10/30\n",
      "1875/1875 [==============================] - 36s 19ms/step - loss: 0.0082 - accuracy: 0.9973 - val_loss: 0.0411 - val_accuracy: 0.9879\n",
      "Epoch 11/30\n",
      "1875/1875 [==============================] - 33s 18ms/step - loss: 0.0076 - accuracy: 0.9975 - val_loss: 0.0416 - val_accuracy: 0.9895\n",
      "Epoch 12/30\n",
      "1875/1875 [==============================] - 36s 19ms/step - loss: 0.0066 - accuracy: 0.9978 - val_loss: 0.0376 - val_accuracy: 0.9912\n",
      "Epoch 13/30\n",
      "1875/1875 [==============================] - 35s 19ms/step - loss: 0.0057 - accuracy: 0.9979 - val_loss: 0.0418 - val_accuracy: 0.9901\n",
      "Epoch 14/30\n",
      "1875/1875 [==============================] - 38s 20ms/step - loss: 0.0049 - accuracy: 0.9984 - val_loss: 0.0509 - val_accuracy: 0.9879\n",
      "Epoch 15/30\n",
      "1875/1875 [==============================] - 37s 20ms/step - loss: 0.0041 - accuracy: 0.9987 - val_loss: 0.0480 - val_accuracy: 0.9894\n",
      "Epoch 16/30\n",
      "1875/1875 [==============================] - 36s 19ms/step - loss: 0.0044 - accuracy: 0.9985 - val_loss: 0.0440 - val_accuracy: 0.9901\n",
      "Epoch 17/30\n",
      "1875/1875 [==============================] - 34s 18ms/step - loss: 0.0043 - accuracy: 0.9985 - val_loss: 0.0528 - val_accuracy: 0.9890\n",
      "Epoch 18/30\n",
      "1875/1875 [==============================] - 33s 18ms/step - loss: 0.0036 - accuracy: 0.9989 - val_loss: 0.0454 - val_accuracy: 0.9903\n",
      "Epoch 19/30\n",
      "1875/1875 [==============================] - 36s 19ms/step - loss: 0.0039 - accuracy: 0.9986 - val_loss: 0.0512 - val_accuracy: 0.9889\n",
      "Epoch 20/30\n",
      "1875/1875 [==============================] - 38s 20ms/step - loss: 0.0022 - accuracy: 0.9994 - val_loss: 0.0479 - val_accuracy: 0.9903\n",
      "Epoch 21/30\n",
      "1875/1875 [==============================] - 39s 21ms/step - loss: 0.0044 - accuracy: 0.9984 - val_loss: 0.0567 - val_accuracy: 0.9895\n",
      "Epoch 22/30\n",
      "1875/1875 [==============================] - 43s 23ms/step - loss: 0.0024 - accuracy: 0.9992 - val_loss: 0.0562 - val_accuracy: 0.9893\n",
      "Epoch 23/30\n",
      "1875/1875 [==============================] - 36s 19ms/step - loss: 0.0033 - accuracy: 0.9988 - val_loss: 0.0571 - val_accuracy: 0.9895\n",
      "Epoch 24/30\n",
      "1875/1875 [==============================] - 34s 18ms/step - loss: 0.0027 - accuracy: 0.9990 - val_loss: 0.0491 - val_accuracy: 0.9915\n",
      "Epoch 25/30\n",
      "1875/1875 [==============================] - 45s 24ms/step - loss: 0.0030 - accuracy: 0.9989 - val_loss: 0.0501 - val_accuracy: 0.9906\n",
      "Epoch 26/30\n",
      "1875/1875 [==============================] - 55s 29ms/step - loss: 0.0012 - accuracy: 0.9995 - val_loss: 0.0469 - val_accuracy: 0.9919\n",
      "Epoch 27/30\n",
      "1875/1875 [==============================] - 47s 25ms/step - loss: 0.0018 - accuracy: 0.9994 - val_loss: 0.0618 - val_accuracy: 0.9907\n",
      "Epoch 28/30\n",
      "1875/1875 [==============================] - 39s 21ms/step - loss: 0.0041 - accuracy: 0.9986 - val_loss: 0.0574 - val_accuracy: 0.9900\n",
      "Epoch 29/30\n",
      "1875/1875 [==============================] - 48s 26ms/step - loss: 6.9202e-04 - accuracy: 0.9998 - val_loss: 0.0548 - val_accuracy: 0.9914\n",
      "Epoch 30/30\n",
      "1875/1875 [==============================] - 40s 22ms/step - loss: 0.0031 - accuracy: 0.9991 - val_loss: 0.0577 - val_accuracy: 0.9909\n"
     ]
    },
    {
     "data": {
      "text/plain": [
       "<keras.callbacks.History at 0x1a750cafd30>"
      ]
     },
     "execution_count": 22,
     "metadata": {},
     "output_type": "execute_result"
    }
   ],
   "source": [
    "import tensorflow as tf\n",
    "from tensorflow import keras\n",
    "from keras import layers\n",
    "(x_train, y_train), (x_test, y_test) = keras.datasets.mnist.load_data()\n",
    "x_train = x_train.astype(\"float32\") / 255.0\n",
    "x_test = x_test.astype(\"float32\") / 255.0\n",
    "x_train = x_train.reshape(-1, 28, 28, 1)\n",
    "x_test = x_test.reshape(-1, 28, 28, 1)\n",
    "model = keras.Sequential(\n",
    "    [\n",
    "        layers.Conv2D(32, (3, 3), activation=\"relu\", input_shape=(28, 28, 1)),\n",
    "        layers.MaxPooling2D(pool_size=(2, 2)),\n",
    "        layers.Conv2D(64, (3, 3), activation=\"relu\"),\n",
    "        layers.MaxPooling2D(pool_size=(2, 2)),\n",
    "        layers.Flatten(),\n",
    "        layers.Dense(10, activation=\"softmax\"),\n",
    "    ]\n",
    ")\n",
    "model.compile(optimizer=\"adam\", loss=\"sparse_categorical_crossentropy\", metrics=[\"accuracy\"])\n",
    "model.fit(x_train, y_train, epochs=30, validation_data=(x_test, y_test))"
   ]
  },
  {
   "cell_type": "code",
   "execution_count": 24,
   "metadata": {},
   "outputs": [
    {
     "name": "stdout",
     "output_type": "stream",
     "text": [
      "Saved model to disk\n"
     ]
    }
   ],
   "source": [
    "# serialize model to JSON\n",
    "model_json = model.to_json()\n",
    "with open(\"updatemodel.json\", \"w\") as json_file:\n",
    "    json_file.write(model_json)\n",
    "# serialize weights to HDF5\n",
    "model.save_weights(\"updatemodel.h5\")\n",
    "print(\"Saved model to disk\")"
   ]
  },
  {
   "cell_type": "code",
   "execution_count": 20,
   "metadata": {},
   "outputs": [
    {
     "name": "stdout",
     "output_type": "stream",
     "text": [
      "1/1 [==============================] - 0s 104ms/step\n",
      "Predicted class: 7\n"
     ]
    }
   ],
   "source": [
    "from PIL import Image\n",
    "import numpy as np\n",
    "\n",
    "# Load the image and convert it to grayscale\n",
    "image = Image.open(\"75.png\").convert(\"L\")\n",
    "\n",
    "# Resize the image to 28x28 pixels\n",
    "image = image.resize((28, 28))\n",
    "\n",
    "# Convert the image to a numpy array\n",
    "image_array = np.asarray(image)\n",
    "\n",
    "# Normalize the pixel values to be between 0 and 1\n",
    "image_array = image_array.astype(\"float32\") / 255.0\n",
    "\n",
    "# Reshape the image array to have a depth of 1 and add a batch dimension\n",
    "image_array = np.reshape(image_array, (1, 28, 28, 1))\n",
    "\n",
    "# Load the model\n",
    "# model = keras.models.load_model(\"your_model_path\")\n",
    "\n",
    "# Get the predictedoutput for the image\n",
    "predicted_output = model.predict(image_array)\n",
    "\n",
    "# Print the predicted class\n",
    "predicted_class = np.argmax(predicted_output)\n",
    "print(\"Predicted class:\", predicted_class)"
   ]
  }
 ],
 "metadata": {
  "kernelspec": {
   "display_name": "Python 3",
   "language": "python",
   "name": "python3"
  },
  "language_info": {
   "codemirror_mode": {
    "name": "ipython",
    "version": 3
   },
   "file_extension": ".py",
   "mimetype": "text/x-python",
   "name": "python",
   "nbconvert_exporter": "python",
   "pygments_lexer": "ipython3",
   "version": "3.10.11"
  },
  "orig_nbformat": 4
 },
 "nbformat": 4,
 "nbformat_minor": 2
}
