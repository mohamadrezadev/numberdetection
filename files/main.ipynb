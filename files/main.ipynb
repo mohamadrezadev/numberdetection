{
 "cells": [
  {
   "cell_type": "code",
   "execution_count": 1,
   "metadata": {},
   "outputs": [],
   "source": [
    "from numpy.ma.core import shape\n",
    "import random\n",
    "\n",
    "import numpy as np\n",
    "import tensorflow as tf\n",
    "\n",
    "from keras.datasets import mnist\n",
    "from keras.datasets import fashion_mnist\n",
    "from keras.utils import to_categorical\n",
    "\n",
    "from keras.models import Sequential\n",
    "from keras.layers import Dense \n",
    "\n",
    "import matplotlib.pyplot as plt \n",
    "from keras import Sequential\n",
    "from keras.models import  model_from_json\n",
    "import cv2"
   ]
  },
  {
   "cell_type": "code",
   "execution_count": 5,
   "metadata": {},
   "outputs": [
    {
     "name": "stdout",
     "output_type": "stream",
     "text": [
      "Model: \"sequential_3\"\n",
      "_________________________________________________________________\n",
      " Layer (type)                Output Shape              Param #   \n",
      "=================================================================\n",
      " dense_9 (Dense)             (None, 128)               100480    \n",
      "                                                                 \n",
      " dense_10 (Dense)            (None, 128)               16512     \n",
      "                                                                 \n",
      " dense_11 (Dense)            (None, 10)                1290      \n",
      "                                                                 \n",
      "=================================================================\n",
      "Total params: 118,282\n",
      "Trainable params: 118,282\n",
      "Non-trainable params: 0\n",
      "_________________________________________________________________\n"
     ]
    }
   ],
   "source": [
    "\n",
    "\n",
    "\n",
    "\n",
    "SEED_VALUE=42\n",
    "random.seed(SEED_VALUE)\n",
    "np.random.seed(SEED_VALUE)\n",
    "tf.random.set_seed(SEED_VALUE)\n",
    "\n",
    "(x_trainall, y_trainall), (x_test, y_test) = mnist.load_data()\n",
    "\n",
    "x_valid=x_trainall[:10000]\n",
    "x_train=x_trainall[10000:]\n",
    "\n",
    "y_Valid=y_trainall[:10000]\n",
    "y_train=y_trainall[10000:]\n",
    "\n",
    "# print(x_train,shape)\n",
    "# print(x_valid,shape)\n",
    "# print(x_test,shape)\n",
    "\n",
    "# plt.figure(figsize=(15,5))\n",
    "# for i in range(3):\n",
    "#   plt.subplot(1,3,i+1)\n",
    "#   # plt.axis()\n",
    "#   plt.imshow(x_train[i],cmap='gray')\n",
    "#   plt.subplots_adjust(0.2,0.2)\n",
    "\n",
    "# plt.show()\n",
    "\n",
    "\n",
    "x_train=x_train.reshape(x_train.shape[0],28*28)\n",
    "x_train=x_train.astype('float32')/255\n",
    "\n",
    "x_valid=x_valid.reshape(x_test.shape[0],28*28)\n",
    "x_valid=x_valid.astype('float32')/255\n",
    "\n",
    "x_test=x_test.reshape(x_test.shape[0],28*28)\n",
    "x_test=x_test.astype('float32')/255\n",
    "\n",
    "y_train=to_categorical(y_train)\n",
    "y_test=to_categorical(y_test)\n",
    "y_Valid=to_categorical(y_Valid)\n",
    "\n",
    "\n",
    "model = Sequential()\n",
    "model.add(Dense(128, activation='LeakyReLU', input_shape=(x_train.shape[1],)))\n",
    "model.add(Dense(128, activation='LeakyReLU'))\n",
    "model.add(Dense(10, activation='softmax'))\n",
    "\n",
    "model.summary()\n",
    "\n",
    "model.compile(loss='categorical_crossentropy',\n",
    "              optimizer='rmsprop',\n",
    "              metrics=['accuracy'])\n",
    "\n",
    "# trainig_result= model.fit(x_train,y_train, batch_size=32, epochs=20, validation_data=(x_valid, y_Valid))\n",
    "\n",
    "# score = model.evaluate(x_test, y_test, verbose=0)\n",
    "# print('Test loss:', score[0])\n",
    "# print('Test accuracy:', score[1])\n"
   ]
  },
  {
   "cell_type": "code",
   "execution_count": null,
   "metadata": {},
   "outputs": [],
   "source": [
    "# serialize model to JSON\n",
    "model_json = model.to_json()\n",
    "with open(\"model.json\", \"w\") as json_file:\n",
    "    json_file.write(model_json)\n",
    "# serialize weights to HDF5\n",
    "model.save_weights(\"model.h5\")\n",
    "print(\"Saved model to disk\")\n",
    " "
   ]
  },
  {
   "cell_type": "code",
   "execution_count": 6,
   "metadata": {},
   "outputs": [
    {
     "name": "stdout",
     "output_type": "stream",
     "text": [
      "Loaded model from disk\n"
     ]
    }
   ],
   "source": [
    "# load json and create model\n",
    "json_file = open('updatemodel.json', 'r')\n",
    "loaded_model_json = json_file.read()\n",
    "json_file.close()\n",
    "loaded_model = model_from_json(loaded_model_json)\n",
    "# load weights into new model\n",
    "loaded_model.load_weights(\"updatemodel.h5\")\n",
    "print(\"Loaded model from disk\")"
   ]
  },
  {
   "cell_type": "code",
   "execution_count": 7,
   "metadata": {},
   "outputs": [],
   "source": [
    "def getpic(filename):\n",
    "        img = cv2.imread(filename)\n",
    "        gray = cv2.cvtColor(img, cv2.COLOR_BGR2GRAY)\n",
    "        _, threshold = cv2.threshold(gray, 110, 255, cv2.THRESH_BINARY)\n",
    "\n",
    "        contours, _ = cv2.findContours(threshold, cv2.RETR_TREE, cv2.CHAIN_APPROX_SIMPLE)\n",
    "        rectangles = [cv2.boundingRect(c) for c in contours]\n",
    "        sorted_rectangles = sorted(rectangles, key=lambda r: r[2]*r[3], reverse=True)\n",
    "        # max_rect = max(rectangles, key=lambda r: r[2]*r[3])\n",
    "        sorted_rectangles = sorted(rectangles, key=lambda r: r[2]*r[3], reverse=True)\n",
    "        max_rects = sorted_rectangles[:2]\n",
    "        cropped1=[]\n",
    "        for i, rect in enumerate(max_rects):\n",
    "          x, y, w, h = rect\n",
    "          center_x = x + w/2\n",
    "          center_y = y + h/2\n",
    "          # cv2.rectangle(img, (x, y), (x+w, y+h), (0, 255, 0), 2)\n",
    "          # cv2.circle(img, (int(center_x), int(center_y)), 5, (0, 0, 255), -1)\n",
    "\n",
    "          # برش  مستطیل\n",
    "          cropped = img[y:y+h, x:x+w]\n",
    "          \n",
    "          cv2.imwrite(f'Imagederect{i}.png', cropped)\n",
    "          cropped1.append(f'Imagederect{i}.png')\n",
    "        \n",
    "        return cropped1"
   ]
  },
  {
   "cell_type": "code",
   "execution_count": 8,
   "metadata": {},
   "outputs": [
    {
     "name": "stdout",
     "output_type": "stream",
     "text": [
      "['Imagederect0.png', 'Imagederect1.png']\n"
     ]
    }
   ],
   "source": [
    "# getpic('44.png')\n",
    "images= getpic('75.png')\n",
    "print(images)"
   ]
  },
  {
   "cell_type": "code",
   "execution_count": 9,
   "metadata": {},
   "outputs": [],
   "source": [
    "def make_square(image_path, square_size=440):\n",
    "    img = cv2.imread(image_path)\n",
    "    height, width, _ = img.shape\n",
    "    if height == width:\n",
    "        return img\n",
    "    elif height > width:\n",
    "        top_bottom = height - width\n",
    "        top = top_bottom // 2\n",
    "        bottom = top_bottom - top\n",
    "        img_with_border = cv2.copyMakeBorder(img, top, bottom, 0, 0, cv2.BORDER_CONSTANT, None, value=[0, 0, 0])\n",
    "    else:\n",
    "        left_right = width - height\n",
    "        left = left_right // 2\n",
    "        right = left_right - left\n",
    "        img_with_border = cv2.copyMakeBorder(img, 0, 0, left, right, cv2.BORDER_CONSTANT, None, value=[0, 0, 0])\n",
    "    resized_img = cv2.resize(img_with_border, (square_size, square_size))\n",
    "    cv2.imwrite(\"resize.png\",resized_img)\n",
    "    return \"resize.png\""
   ]
  },
  {
   "cell_type": "code",
   "execution_count": 10,
   "metadata": {},
   "outputs": [],
   "source": [
    "def testmodel(filename):\n",
    "    img = cv2.imread(filename, cv2.IMREAD_GRAYSCALE)\n",
    "    img = cv2.resize(img, (28, 28))\n",
    "    img = img.astype('float32') / 255.0\n",
    "    img = img.reshape(1, 28*28)\n",
    "    pred = loaded_model.predict(img)\n",
    "    print(np.argmax(pred))\n",
    "    class_names = ['0', '1', '2', '3', '4', '5', '6', '7', '8', '9']\n",
    "    pred_class_name = class_names[np.argmax(pred)]\n",
    "    print('Predicted class:', pred_class_name)"
   ]
  },
  {
   "cell_type": "code",
   "execution_count": 11,
   "metadata": {},
   "outputs": [],
   "source": [
    "from PIL import Image\n",
    "import numpy as np\n",
    "def testmodelupdate(filename):\n",
    "          # Load the image and convert it to grayscale\n",
    "          print(filename)\n",
    "          image = Image.open(filename).convert(\"L\")\n",
    "          image = image.resize((28, 28))\n",
    "          image_array = np.asarray(image)\n",
    "          image_array = image_array.astype(\"float32\") / 255.0\n",
    "          image_array = np.reshape(image_array, (1, 28, 28, 1))\n",
    "          predicted_output = loaded_model.predict(image_array)\n",
    "          predicted_class = np.argmax(predicted_output)\n",
    "          print(\"Predicted class:\", predicted_class)"
   ]
  },
  {
   "cell_type": "code",
   "execution_count": null,
   "metadata": {},
   "outputs": [],
   "source": [
    "resized_image = make_square(\"75.png\")\n",
    "print(resized_image)\n",
    "testmodelupdate(resized_image)\n",
    "\n",
    "# testmodel(\"resized_image1.png\")"
   ]
  },
  {
   "cell_type": "code",
   "execution_count": null,
   "metadata": {},
   "outputs": [],
   "source": [
    "from tkinter import *\n",
    "root = Tk()\n",
    "root.title('My First GUI...')\n",
    "root.geometry('500x300')\n",
    "root.configure(bg='red')\n",
    "def hello():\n",
    "    print(\"Hello \")\n",
    "im = PhotoImage(file='./18.png')\n",
    "im = im.subsample(2,2)\n",
    "btn1 = Button(root,text='click    ',bg='yellow',fg='green',font=('arial',25,'bold'),activebackground='blue',\n",
    "              width=200,height=100,anchor=N,cursor='clock',activeforeground='white',bd=8,relief=RIDGE,command=hello,\n",
    "              image=im,compound=RIGHT)\n",
    "btn1.pack()\n",
    "\n",
    "lab1 = Label(root,text='Hello',anchor=N,bg='white',fg='black',\n",
    "             font=('chiller',35,'italic bold underline'),cursor='watch',relief=RIDGE,bd=5,\n",
    "             image=im,compound=BOTTOM)\n",
    "lab1.pack()\n",
    "\n",
    "\n",
    "root.mainloop()"
   ]
  },
  {
   "cell_type": "code",
   "execution_count": null,
   "metadata": {},
   "outputs": [],
   "source": [
    "for i in range(len(images)) :\n",
    "          print (i)\n",
    "          resized_image = make_square(images[i])\n",
    "          cv2.imwrite(f\"resized_image{i}.png\",resized_image)\n",
    "          # testmodel(f\"resized_image{i}.png\")\n",
    "          cv2.imshow('image', resized_image)\n",
    "          cv2.waitKey(0)\n",
    "          cv2.destroyAllWindows()"
   ]
  },
  {
   "cell_type": "code",
   "execution_count": 1,
   "metadata": {},
   "outputs": [],
   "source": [
    "def addborder(filename):\n",
    "          img = cv2.imread(filename)\n",
    "          height, width, _ = img.shape\n",
    "          border_size = 85\n",
    "          border_color = (0, 0, 0)\n",
    "          img_with_border = cv2.copyMakeBorder(img, border_size, border_size, border_size, border_size, cv2.BORDER_CONSTANT, value=border_color)\n",
    "          cv2.imwrite(f\"{filename}\", img_with_border)\n",
    "          return f\"{filename}\""
   ]
  },
  {
   "cell_type": "code",
   "execution_count": null,
   "metadata": {},
   "outputs": [],
   "source": [
    "# images= getpic('7.png')\n",
    "\n",
    "img= addborder('./Imagederect0.png')\n",
    "print(img)\n",
    "# resized_image = make_square(img)\n",
    "# print(resized_image)\n",
    "# print(img)\n",
    "# addborder('Imagederect1.png')\n",
    "# testmodel('image_with_border.jpg')"
   ]
  },
  {
   "cell_type": "code",
   "execution_count": null,
   "metadata": {},
   "outputs": [],
   "source": [
    "resized_image = make_square('resized_image0.png')\n",
    "cv2.imwrite(\"resized_image.png\",resized_image)\n",
    "cv2.imshow('image', resized_image)\n",
    "cv2.waitKey(0)\n",
    "cv2.destroyAllWindows()"
   ]
  },
  {
   "cell_type": "code",
   "execution_count": null,
   "metadata": {},
   "outputs": [],
   "source": [
    "testmodel('resized_image0.png')\n",
    "testmodel('resized_image1.png')"
   ]
  },
  {
   "cell_type": "code",
   "execution_count": null,
   "metadata": {},
   "outputs": [],
   "source": [
    "\n",
    "\n",
    "# تعیین مشخصات وب کم\n",
    "camera_port = 0\n",
    "ramp_frames = 30\n",
    "camera = cv2.VideoCapture(camera_port)\n",
    "\n",
    "# چک کردن اینکه وب کم را می‌توان دسترسی پیدا کرد یا نه\n",
    "def get_image():\n",
    "    # خواندن تعدادی فریم برای آماده سازی کیفیت وب کم\n",
    "    for i in range(ramp_frames):\n",
    "        retval, im = camera.read()\n",
    "    # خواندن یک فریم واقعی از وب کم\n",
    "    retval, im = camera.read()\n",
    "    return im\n",
    "\n",
    "while True:\n",
    "    # خواندن یک فریم از وب کم\n",
    "    ret, frame = camera.read()\n",
    "    \n",
    "    # نمایش فریم در پنجره\n",
    "    cv2.imshow('Webcam Feed', frame)\n",
    "    \n",
    "    # اگر کاربر کلید q را فشار داد\n",
    "    if cv2.waitKey(1) & 0xFF == ord('q'):\n",
    "        # خروج از حلقه بی نهایت و آزاد کردن دوربین\n",
    "        camera.release()\n",
    "        cv2.destroyAllWindows()\n",
    "        break\n",
    "    \n",
    "    # اگر کاربر کلید s را فشار داد\n",
    "    elif cv2.waitKey(1) & 0xFF == ord('s'):\n",
    "        image= getpic(frame=frame)\n",
    "        resized_image=make_square\n",
    "        testmodel(resized_image)\n",
    "        camera.release()\n",
    "        cv2.destroyAllWindows()\n",
    "        break"
   ]
  }
 ],
 "metadata": {
  "kernelspec": {
   "display_name": "Python 3",
   "language": "python",
   "name": "python3"
  },
  "language_info": {
   "codemirror_mode": {
    "name": "ipython",
    "version": 3
   },
   "file_extension": ".py",
   "mimetype": "text/x-python",
   "name": "python",
   "nbconvert_exporter": "python",
   "pygments_lexer": "ipython3",
   "version": "3.10.11"
  },
  "orig_nbformat": 4
 },
 "nbformat": 4,
 "nbformat_minor": 2
}
